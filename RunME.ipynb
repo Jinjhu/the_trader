
from google.colab import output
from google.colab import files


# package import statement
from smartapi import SmartConnect #or from smartapi.smartConnect import SmartConnect
#from smartapi import WebSocket
